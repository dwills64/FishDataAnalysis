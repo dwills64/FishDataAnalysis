{
 "cells": [
  {
   "cell_type": "code",
   "execution_count": null,
   "metadata": {},
   "outputs": [],
   "source": [
    "import pandas as pd\n",
    "import matplotlib\n",
    "from matplotlib import pyplot as plt\n",
    "from io import BytesIO\n",
    "import numpy as np\n",
    "import seaborn as sns\n",
    "import IPython.display as display\n",
    "from scipy.stats import skew, kurtosis"
   ]
  },
  {
   "cell_type": "code",
   "execution_count": null,
   "metadata": {},
   "outputs": [],
   "source": [
    "#Question 1: Create a line chart to visualize the distribution of the 'capitalLong' feature\n",
    "excel_file = 'spambase.xlsx'\n",
    "df = pd.read_excel(excel_file)\n",
    "\n",
    "plt.figure(figsize=(10, 6))\n",
    "plt.plot(df['capitalLong'])\n",
    "plt.title('Distribution of capitalLong')\n",
    "plt.xlabel('Index')\n",
    "plt.ylabel('capitalLong')\n",
    "\n",
    "img_buffer = BytesIO()\n",
    "plt.savefig(img_buffer, format='png')\n",
    "img_buffer.seek(0)\n"
   ]
  },
  {
   "cell_type": "code",
   "execution_count": null,
   "metadata": {},
   "outputs": [],
   "source": [
    "#Question 2: Generate a bar chart to show the frequency of 'type' (spam and nonspam) in the dataset\n",
    "excel_file = 'spambase.xlsx'\n",
    "df = pd.read_excel(excel_file)\n",
    "\n",
    "spam_count = df[df['type'] == 'spam'].shape[0]\n",
    "nonspam_count = df[df['type'] == 'nonspam'].shape[0]\n",
    "\n",
    "categories = ['Spam', 'Non-Spam']\n",
    "values = [spam_count, nonspam_count]\n",
    "\n",
    "fig, ax = plt.subplots()\n",
    "ax.bar(categories, values)\n",
    "\n",
    "ax.set_xlabel('Type')\n",
    "ax.set_ylabel('Count')\n",
    "ax.set_title('Spam vs Non-Spam')\n",
    "\n",
    "img_buffer = BytesIO()\n",
    "plt.savefig(img_buffer, format='png')\n",
    "img_buffer.seek(0)\n"
   ]
  },
  {
   "cell_type": "code",
   "execution_count": null,
   "metadata": {},
   "outputs": [],
   "source": [
    "#Question 3: Create a scatter plot to explore the relationship between 'num3d' and 'num000'\n",
    "excel_file = 'spambase.xlsx'\n",
    "df = pd.read_excel(excel_file)\n",
    "\n",
    "x_data = df['num3d']\n",
    "y_data = df['num000']\n",
    "\n",
    "fig, ax = plt.subplots()\n",
    "ax.scatter(x_data, y_data, alpha=0.5)\n",
    "ax.set_xlabel('num3d')\n",
    "ax.set_ylabel('num000')\n",
    "ax.set_title('Scatter Plot: num3d vs num000')\n",
    "\n",
    "img_buffer = BytesIO()\n",
    "plt.savefig(img_buffer, format='png')\n",
    "img_buffer.seek(0)\n"
   ]
  },
  {
   "cell_type": "code",
   "execution_count": null,
   "metadata": {},
   "outputs": [],
   "source": [
    "# Question 4: Visualize the distribution of 'money' using a histogram\n",
    "excel_file = 'spambase.xlsx'\n",
    "df = pd.read_excel(excel_file)\n",
    "\n",
    "money_data = df['money']\n",
    "\n",
    "\n",
    "fig, ax = plt.subplots()\n",
    "bin_edges = np.arange(0, 3.6, 0.3)\n",
    "ax.hist(money_data, bins=bin_edges, rwidth=0.8, align='left')\n",
    "\n",
    "ax.set_xlabel('Unique Entries')\n",
    "ax.set_ylabel('Count')\n",
    "ax.set_title('Histogram of \"money\" Column')\n",
    "ax.set_xticks(np.arange(0, 3.7, 0.3))\n",
    "\n",
    "\n",
    "img_buffer = BytesIO()\n",
    "plt.savefig(img_buffer, format='png')\n",
    "img_buffer.seek(0)\n"
   ]
  },
  {
   "cell_type": "code",
   "execution_count": null,
   "metadata": {},
   "outputs": [],
   "source": [
    "#Question 5: Create a pie chart to represent the proportion of spam and nonspam emails in the dataset\n",
    "excel_file = 'spambase.xlsx'\n",
    "df = pd.read_excel(excel_file)\n",
    "\n",
    "spam_count = df[df['type'] == 'spam'].shape[0]\n",
    "nonspam_count = df[df['type'] == 'nonspam'].shape[0]\n",
    "\n",
    "labels = ['Spam', 'Non-Spam']\n",
    "sizes = [spam_count, nonspam_count]\n",
    "colors = ['#f70a0a', '#05e650']\n",
    "\n",
    "\n",
    "fig, ax = plt.subplots()\n",
    "ax.pie(sizes, labels=labels, autopct='%1.1f%%', startangle=90, colors=colors)\n",
    "\n",
    "ax.set_title('Spam VS Non-Spam Emails')\n",
    "\n",
    "\n",
    "img_buffer = BytesIO()\n",
    "plt.savefig(img_buffer, format='png')\n",
    "img_buffer.seek(0)\n"
   ]
  },
  {
   "cell_type": "code",
   "execution_count": null,
   "metadata": {},
   "outputs": [],
   "source": [
    "#Question 6: Generate a table chart to display the summary statistics for the 'capitalAve' feature\n",
    "excel_file = 'spambase.xlsx'\n",
    "df = pd.read_excel(excel_file)\n",
    "\n",
    "summary_stats = df['capitalAve'].describe()\n",
    "print(summary_stats)"
   ]
  },
  {
   "cell_type": "code",
   "execution_count": null,
   "metadata": {},
   "outputs": [],
   "source": [
    "#Question 7: Calculate the mean, median, and standard deviation of the 'our' feature\n",
    "excel_file = 'spambase.xlsx'\n",
    "df = pd.read_excel(excel_file)\n",
    "\n",
    "our_mean = df['our'].mean()\n",
    "our_median = df['our'].median()\n",
    "our_std = df['our'].std()\n",
    "\n",
    "print(f\"Mean: {our_mean:.4f}\")\n",
    "print(f\"Median: {our_median:.4f}\")\n",
    "print(f\"Standard Deviation: {our_std:.4f}\")"
   ]
  },
  {
   "cell_type": "code",
   "execution_count": null,
   "metadata": {},
   "outputs": [],
   "source": [
    "#Question 8: Determine the minimum and maximum values of 'hp'\n",
    "excel_file = 'spambase.xlsx'\n",
    "df = pd.read_excel(excel_file)\n",
    "\n",
    "hp_min = df['hp'].min()\n",
    "hp_max = df['hp'].max()\n",
    "\n",
    "print(f\"Minimum HP: {hp_min}\")\n",
    "print(f\"Maximum HP: {hp_max}\")"
   ]
  },
  {
   "cell_type": "code",
   "execution_count": null,
   "metadata": {},
   "outputs": [],
   "source": [
    "#Question 9: Calculate the 25th, 50th, and 75th percentiles for 'telnet'\n",
    "excel_file = 'spambase.xlsx'\n",
    "df = pd.read_excel(excel_file)\n",
    "\n",
    "telnet_percentiles = df['telnet'].quantile([0.25, 0.50, 0.75])\n",
    "\n",
    "print(\"25th Percentile:\", telnet_percentiles[0.25])\n",
    "print(\"50th Percentile:\", telnet_percentiles[0.50])\n",
    "print(\"75th Percentile:\", telnet_percentiles[0.75])"
   ]
  },
  {
   "cell_type": "code",
   "execution_count": null,
   "metadata": {},
   "outputs": [],
   "source": [
    "#Question 10: Find the mode of the 'you' feature\n",
    "excel_file = 'spambase.xlsx'\n",
    "df = pd.read_excel(excel_file)\n",
    "\n",
    "you_mode = df['you'].mode()\n",
    "\n",
    "if you_mode.empty:\n",
    "    print(\"No mode found\")\n",
    "else:\n",
    "    print(\"Mode:\", you_mode.iloc[0])"
   ]
  },
  {
   "cell_type": "code",
   "execution_count": null,
   "metadata": {},
   "outputs": [],
   "source": [
    "#Question 11: Calculate the interquartile range (IQR) for 'business'\n",
    "excel_file = 'spambase.xlsx'\n",
    "df = pd.read_excel(excel_file)\n",
    "\n",
    "business_iqr = df['business'].quantile(0.75) - df['business'].quantile(0.25)\n",
    "\n",
    "print(\"Interquartile Range (IQR):\", business_iqr)"
   ]
  },
  {
   "cell_type": "code",
   "execution_count": null,
   "metadata": {},
   "outputs": [],
   "source": [
    "#Question 12: Compute the skewness and kurtosis of the 'credit' feature\n",
    "excel_file = 'spambase.xlsx'\n",
    "df = pd.read_excel(excel_file)\n",
    "\n",
    "credit_skewness = skew(df['credit'])\n",
    "credit_kurtosis = kurtosis(df['credit'])\n",
    "\n",
    "print(f\"Skewness: {credit_skewness:.4f}\")\n",
    "print(f\"Kurtosis: {credit_kurtosis:.4f}\")"
   ]
  },
  {
   "cell_type": "code",
   "execution_count": null,
   "metadata": {},
   "outputs": [],
   "source": [
    "#Question 13: Calculate the correlation coefficient between 'capitalAve' and 'capitalTotal'\n",
    "excel_file = 'spambase.xlsx'\n",
    "df = pd.read_excel(excel_file)\n",
    "\n",
    "correlation_coefficient = df['capitalAve'].corr(df['capitalTotal'])\n",
    "\n",
    "print(f\"Correlation Coefficient: {correlation_coefficient:.4f}\")"
   ]
  },
  {
   "cell_type": "code",
   "execution_count": null,
   "metadata": {},
   "outputs": [],
   "source": [
    "#Question 14: Determine the range of values for 'num857'\n",
    "excel_file = 'spambase.xlsx'\n",
    "df = pd.read_excel(excel_file)\n",
    "\n",
    "num857_min = df['num857'].min()\n",
    "num857_max = df['num857'].max()\n",
    "num857_range = num857_max - num857_min\n",
    "\n",
    "print(\"Minimum Value:\", num857_min)\n",
    "print(\"Maximum Value:\", num857_max)\n",
    "print(\"Range:\", num857_range)"
   ]
  },
  {
   "cell_type": "code",
   "execution_count": null,
   "metadata": {},
   "outputs": [],
   "source": [
    "#Question 15: Calculate the variance of 'money'\n",
    "excel_file = 'spambase.xlsx'\n",
    "df = pd.read_excel(excel_file)\n",
    "\n",
    "money_variance = df['money'].var()\n",
    "\n",
    "print(f\"Variance: {money_variance:.4f}\")"
   ]
  },
  {
   "cell_type": "code",
   "execution_count": null,
   "metadata": {},
   "outputs": [],
   "source": [
    "#Question 16: Generate a correlation matrix for all numeric features in the dataset\n",
    "excel_file = 'spambase.xlsx'\n",
    "df = pd.read_excel(excel_file)\n",
    "\n",
    "numeric_columns = df.select_dtypes(include=['number'])\n",
    "\n",
    "correlation_matrix = numeric_columns.corr()\n",
    "\n",
    "\n",
    "plt.figure(figsize=(10, 8))\n",
    "sns.heatmap(correlation_matrix, annot=True, cmap='coolwarm', fmt=\".2f\")\n",
    "\n",
    "img_buffer = BytesIO()\n",
    "plt.savefig(img_buffer, format='png')\n",
    "img_buffer.seek(0)\n",
    "\n"
   ]
  },
  {
   "cell_type": "code",
   "execution_count": null,
   "metadata": {},
   "outputs": [],
   "source": [
    "#Question 17: Identify the two features with the highest positive correlation and the two with the highest negative correlation\n",
    "excel_file = 'spambase.xlsx'\n",
    "df = pd.read_excel(excel_file)\n",
    "\n",
    "numeric_columns = df.select_dtypes(include=['number'])\n",
    "correlation_matrix = numeric_columns.corr()\n",
    "\n",
    "# Get the highest positive correlations\n",
    "highest_positive_corr = correlation_matrix.unstack().sort_values().drop_duplicates()\n",
    "highest_positive_corr = highest_positive_corr[highest_positive_corr != 1.0].tail(2)\n",
    "\n",
    "# Get the highest negative correlations\n",
    "highest_negative_corr = correlation_matrix.unstack().sort_values().drop_duplicates()\n",
    "highest_negative_corr = highest_negative_corr.head(2)\n",
    "\n",
    "print(\"Features with Highest Positive Correlation:\")\n",
    "print(highest_positive_corr)\n",
    "\n",
    "print(\"Features with Highest Negative Correlation:\")\n",
    "print(highest_negative_corr)"
   ]
  },
  {
   "cell_type": "code",
   "execution_count": null,
   "metadata": {},
   "outputs": [],
   "source": [
    "#Question 18: Visualize the correlation matrix using a heatmap\n",
    "excel_file = 'spambase.xlsx'\n",
    "df = pd.read_excel(excel_file)\n",
    "\n",
    "numeric_columns = df.select_dtypes(include=['number'])\n",
    "\n",
    "correlation_matrix = numeric_columns.corr()\n",
    "\n",
    "\n",
    "plt.figure(figsize=(10, 8))\n",
    "sns.heatmap(correlation_matrix, annot=True, cmap='coolwarm', fmt=\".2f\")\n",
    "\n",
    "img_buffer = BytesIO()\n",
    "plt.savefig(img_buffer, format='png')\n",
    "img_buffer.seek(0)\n",
    "\n"
   ]
  },
  {
   "cell_type": "code",
   "execution_count": null,
   "metadata": {},
   "outputs": [],
   "source": [
    "#Question 19: Calculate the correlation coefficient between 'remove' and 'internet'\n",
    "excel_file = 'spambase.xlsx'\n",
    "df = pd.read_excel(excel_file)\n",
    "\n",
    "correlation_coefficient = df['remove'].corr(df['internet'])\n",
    "\n",
    "print(f\"Correlation Coefficient: {correlation_coefficient:.4f}\")"
   ]
  },
  {
   "cell_type": "code",
   "execution_count": null,
   "metadata": {},
   "outputs": [],
   "source": [
    "#Question 20: Determine the correlation between 'num3d' and 'num000'\n",
    "excel_file = 'spambase.xlsx'\n",
    "df = pd.read_excel(excel_file)\n",
    "\n",
    "correlation_coefficient = df['num3d'].corr(df['num000'])\n",
    "\n",
    "print(f\"Correlation Coefficient: {correlation_coefficient:.4f}\")"
   ]
  },
  {
   "cell_type": "code",
   "execution_count": null,
   "metadata": {},
   "outputs": [],
   "source": [
    "#Question 21: Perform a correlation analysis between 'font' and 'money'\n",
    "excel_file = 'spambase.xlsx'\n",
    "df = pd.read_excel(excel_file)\n",
    "\n",
    "correlation_coefficient = df['font'].corr(df['money'])\n",
    "\n",
    "print(f\"Correlation Coefficient: {correlation_coefficient:.4f}\")"
   ]
  },
  {
   "cell_type": "code",
   "execution_count": null,
   "metadata": {},
   "outputs": [],
   "source": [
    "#Question 22: Calculate the correlation between 'table' and 'technology'\n",
    "excel_file = 'spambase.xlsx'\n",
    "df = pd.read_excel(excel_file)\n",
    "\n",
    "correlation_coefficient = df['table'].corr(df['technology'])\n",
    "\n",
    "print(f\"Correlation Coefficient: {correlation_coefficient:.4f}\")"
   ]
  },
  {
   "cell_type": "code",
   "execution_count": null,
   "metadata": {},
   "outputs": [],
   "source": [
    "#Question 23: Describe the characteristics of data that make a bar chart suitable for visualization.\n",
    "\n",
    "#Given that bar charts are measured on a scale with predetermined value possibilities, it makes sense for category or nominal data. \n",
    "# When dealing with categorical data, the responses have a predetermined order, and the sample is frequently separated into categories. \n",
    "# Bar graphs have three main characteristics. These are: The bar graph makes it simple for comparing various data sets amongst various groupings. \n",
    "# Two axes are used to depict the relationship: one axis has the categories, and the other has the discrete quantities.  \n",
    "# The graph displays the key variations in the data across time."
   ]
  },
  {
   "cell_type": "code",
   "execution_count": null,
   "metadata": {},
   "outputs": [],
   "source": [
    "#Question 24: Explain when it is appropriate to use a scatter plot for data exploration.\n",
    "#When you have two variables that go harmoniously together, use a scatter plot. Charting two variables that correlate well together on a scatter diagram allows you to examine \n",
    "# their relationship and determine whether there is a positive or negative correlation between them. \n",
    "# Scatter plots are most commonly used to show the relationship between two variables and analyze the characteristics of that relationship. \n",
    "# It is possible for the relationships to be strong or weak, non-linear or linear, or positive or negative."
   ]
  },
  {
   "cell_type": "code",
   "execution_count": null,
   "metadata": {},
   "outputs": [],
   "source": [
    "#Question 25: Discuss the advantages and disadvantages of using a pie chart for categorical data.\n",
    "#When displaying a parts-to-whole connection for categorical data, pie charts make sense. Usually, the pie's segments correspond to different percentages of the whole. \n",
    "# When dealing with categorical data, the responses have a predetermined order, and the sample is frequently separated into groupings. \n",
    "# The best visual representations for categorical variables are bar charts, pie charts, and frequency tables. The use of pie charts has drawbacks as well. \n",
    "# Comparing the slices' sizes can be challenging, particularly if there are many of them. When the chart isn't displayed at an appropriate scale or the slices are small, \n",
    "# it can be challenging to read the descriptions on the slices. Pie charts can be challenging to fit all of the pieces into the chart, \n",
    "# so they are not a good option for presenting data with many categories."
   ]
  },
  {
   "cell_type": "code",
   "execution_count": null,
   "metadata": {},
   "outputs": [],
   "source": [
    "#Question 26: When would you choose a line chart over a histogram for data visualization?\n",
    "#To monitor changes over both short and long time periods, line graphs are utilized. Line graphs are preferable when there are smaller changes. \n",
    "# Comparing changes for multiple groups over the same time span can also be done with line graphs. \n",
    "# A histogram is a bar graph that displays data in intervals. Data that varies consistently throughout time is displayed using a line graph. \n",
    "# Quantitative data is represented graphically by a histogram. So, it depends on the data you are trying to display. When it comes to quantitative data, \n",
    "# a line graph is usually used for continuous data, and a histogram for discrete data."
   ]
  },
  {
   "cell_type": "code",
   "execution_count": null,
   "metadata": {},
   "outputs": [],
   "source": [
    "#Question 27: Describe a scenario where a table chart is more informative than other chart types.\n",
    "#Tables are great when you have data that is difficult to show visually or when the data needs more specialized attention because they are meant to be read. \n",
    "# All about precision, tables allow you to study exact figures and delve further into the numbers rather than concentrating on estimates or visualizations. \n",
    "# Tables allow you to analyze data sets with numerous dimensions and values without having to build intricate visuals. \n",
    "# Additionally, tables provide useful visual representations for data analysis when date is a parameter—a more sophisticated concept that charts would find difficult to convey. \n",
    "# Employee records, for example, might contain the start and finish dates, but they might not be able to display the number of hires made each day because certain days may not have any. \n",
    "# Alternatively, adding the total number of hires every day as an additional variable to a table would be more appropriate."
   ]
  },
  {
   "cell_type": "code",
   "execution_count": null,
   "metadata": {},
   "outputs": [],
   "source": [
    "#Question 28: Explain the key insights you can gain from a histogram.\n",
    "#A useful tool for data analysis that makes it possible to see a dataset's distribution is a histogram. \n",
    "# They are especially helpful for comparing different datasets and finding trends and outliers in large datasets. \n",
    "# The visualization of a dataset's distribution is among the most popular applications for histograms. \n",
    "# A graph that displays the frequency of data points within particular ranges or bins is called a histogram. The range of values is represented by the x-axis, \n",
    "# and the frequency of data points in that range is shown by the y-axis. This facilitates the visualization of the data distribution and the identification of trends or outliers. \n",
    "# A histogram that exhibits a high concentration of data points in one range and a low concentration in another, for instance, may suggest that the data is biased towards a specific value. \n",
    "# Histograms are frequently used for comparing different datasets. It is simple to see how the data is spread across datasets and spot any similarities or discrepancies by making histograms \n",
    "# for each one. This is especially helpful when comparing data from various groups or eras."
   ]
  }
 ],
 "metadata": {
  "kernelspec": {
   "display_name": "Python 3",
   "language": "python",
   "name": "python3"
  },
  "language_info": {
   "codemirror_mode": {
    "name": "ipython",
    "version": 3
   },
   "file_extension": ".py",
   "mimetype": "text/x-python",
   "name": "python",
   "nbconvert_exporter": "python",
   "pygments_lexer": "ipython3",
   "version": "3.9.7"
  }
 },
 "nbformat": 4,
 "nbformat_minor": 2
}
